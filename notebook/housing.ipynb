{
 "cells": [
  {
   "cell_type": "markdown",
   "source": [
    "### Introduction\n",
    "This notebook explores Spark MLlib by taking an example of house price regression.\n",
    "\n",
    "The dataset used within this notebook is California housing price, which can be downloaded from [Kaggle](https://www.kaggle.com/camnugent/california-housing-prices?select=housing.csv)."
   ],
   "metadata": {
    "collapsed": false,
    "pycharm": {
     "name": "#%% md\n"
    }
   }
  },
  {
   "cell_type": "markdown",
   "source": [
    "First, we create a SparkSession object that executes all DataFrame API."
   ],
   "metadata": {
    "collapsed": false,
    "pycharm": {
     "name": "#%% md\n"
    }
   }
  },
  {
   "cell_type": "code",
   "execution_count": 1,
   "metadata": {
    "collapsed": true
   },
   "outputs": [],
   "source": [
    "from pyspark.sql import SparkSession\n",
    "spark = (SparkSession\n",
    "         .builder\n",
    "         .appName('Housing price regression')\n",
    "         .getOrCreate())"
   ]
  },
  {
   "cell_type": "markdown",
   "source": [
    "Load the dataset using Spark DataFrameReader."
   ],
   "metadata": {
    "collapsed": false,
    "pycharm": {
     "name": "#%% md\n"
    }
   }
  },
  {
   "cell_type": "code",
   "execution_count": 25,
   "outputs": [],
   "source": [
    "RANDOM_SEED = 42\n",
    "csv_file = '../datasets/housing.csv'"
   ],
   "metadata": {
    "collapsed": false,
    "pycharm": {
     "name": "#%%\n"
    }
   }
  },
  {
   "cell_type": "code",
   "execution_count": 26,
   "outputs": [
    {
     "name": "stdout",
     "output_type": "stream",
     "text": [
      "+---------+--------+------------------+-----------+--------------+----------+----------+-------------+------------------+---------------+\n",
      "|longitude|latitude|housing_median_age|total_rooms|total_bedrooms|population|households|median_income|median_house_value|ocean_proximity|\n",
      "+---------+--------+------------------+-----------+--------------+----------+----------+-------------+------------------+---------------+\n",
      "|  -122.23|   37.88|              41.0|      880.0|         129.0|     322.0|     126.0|       8.3252|          452600.0|       NEAR BAY|\n",
      "|  -122.22|   37.86|              21.0|     7099.0|        1106.0|    2401.0|    1138.0|       8.3014|          358500.0|       NEAR BAY|\n",
      "|  -122.24|   37.85|              52.0|     1467.0|         190.0|     496.0|     177.0|       7.2574|          352100.0|       NEAR BAY|\n",
      "+---------+--------+------------------+-----------+--------------+----------+----------+-------------+------------------+---------------+\n",
      "only showing top 3 rows\n",
      "\n"
     ]
    }
   ],
   "source": [
    "houseDF = (spark\n",
    "           .read\n",
    "           .format('com.databricks.spark.csv')\n",
    "           .option('header', 'true')\n",
    "           .option('inferSchema', 'true')\n",
    "           .load(csv_file))\n",
    "\n",
    "houseDF.show(3)"
   ],
   "metadata": {
    "collapsed": false,
    "pycharm": {
     "name": "#%%\n"
    }
   }
  },
  {
   "cell_type": "markdown",
   "source": [
    "Split the dataset into training and testset with the proportion 4 : 1."
   ],
   "metadata": {
    "collapsed": false,
    "pycharm": {
     "name": "#%% md\n"
    }
   }
  },
  {
   "cell_type": "code",
   "execution_count": 126,
   "outputs": [],
   "source": [
    "houseDF.cache()\n",
    "trainDF, testDF = houseDF.randomSplit([.8, .2], seed=RANDOM_SEED)"
   ],
   "metadata": {
    "collapsed": false,
    "pycharm": {
     "name": "#%%\n"
    }
   }
  },
  {
   "cell_type": "markdown",
   "source": [
    "### Exploratory data analysis"
   ],
   "metadata": {
    "collapsed": false,
    "pycharm": {
     "name": "#%% md\n"
    }
   }
  },
  {
   "cell_type": "code",
   "execution_count": 127,
   "outputs": [],
   "source": [
    "%matplotlib inline\n",
    "import pandas as pd\n",
    "import pyspark.sql.dataframe as pdf\n",
    "import pyspark.sql.functions as F\n",
    "import numpy as np\n",
    "import matplotlib.pyplot as plt\n",
    "from pyspark_dist_explore import hist\n",
    "import seaborn as sns\n",
    "from pprint import pprint"
   ],
   "metadata": {
    "collapsed": false,
    "pycharm": {
     "name": "#%%\n"
    }
   }
  },
  {
   "cell_type": "markdown",
   "source": [
    "Overall schema of the training set"
   ],
   "metadata": {
    "collapsed": false,
    "pycharm": {
     "name": "#%% md\n"
    }
   }
  },
  {
   "cell_type": "code",
   "execution_count": 29,
   "outputs": [
    {
     "name": "stdout",
     "output_type": "stream",
     "text": [
      "root\n",
      " |-- longitude: double (nullable = true)\n",
      " |-- latitude: double (nullable = true)\n",
      " |-- housing_median_age: double (nullable = true)\n",
      " |-- total_rooms: double (nullable = true)\n",
      " |-- total_bedrooms: double (nullable = true)\n",
      " |-- population: double (nullable = true)\n",
      " |-- households: double (nullable = true)\n",
      " |-- median_income: double (nullable = true)\n",
      " |-- median_house_value: double (nullable = true)\n",
      " |-- ocean_proximity: string (nullable = true)\n",
      "\n",
      "None\n"
     ]
    }
   ],
   "source": [
    "print(trainDF.printSchema())"
   ],
   "metadata": {
    "collapsed": false,
    "pycharm": {
     "name": "#%%\n"
    }
   }
  },
  {
   "cell_type": "code",
   "execution_count": 30,
   "outputs": [],
   "source": [
    "numeric_cols = [c for c,t in trainDF.dtypes if t == 'double']\n",
    "string_cols = [c for c,t in trainDF.dtypes if t == 'string']"
   ],
   "metadata": {
    "collapsed": false,
    "pycharm": {
     "name": "#%%\n"
    }
   }
  },
  {
   "cell_type": "markdown",
   "source": [
    "Check missing values"
   ],
   "metadata": {
    "collapsed": false,
    "pycharm": {
     "name": "#%% md\n"
    }
   }
  },
  {
   "cell_type": "code",
   "execution_count": 32,
   "outputs": [
    {
     "data": {
      "text/plain": "   longitude  latitude  housing_median_age  total_rooms  total_bedrooms  \\\n0          0         0                   0            0             157   \n\n   population  households  median_income  median_house_value  ocean_proximity  \n0           0           0              0                   0                0  ",
      "text/html": "<div>\n<style scoped>\n    .dataframe tbody tr th:only-of-type {\n        vertical-align: middle;\n    }\n\n    .dataframe tbody tr th {\n        vertical-align: top;\n    }\n\n    .dataframe thead th {\n        text-align: right;\n    }\n</style>\n<table border=\"1\" class=\"dataframe\">\n  <thead>\n    <tr style=\"text-align: right;\">\n      <th></th>\n      <th>longitude</th>\n      <th>latitude</th>\n      <th>housing_median_age</th>\n      <th>total_rooms</th>\n      <th>total_bedrooms</th>\n      <th>population</th>\n      <th>households</th>\n      <th>median_income</th>\n      <th>median_house_value</th>\n      <th>ocean_proximity</th>\n    </tr>\n  </thead>\n  <tbody>\n    <tr>\n      <th>0</th>\n      <td>0</td>\n      <td>0</td>\n      <td>0</td>\n      <td>0</td>\n      <td>157</td>\n      <td>0</td>\n      <td>0</td>\n      <td>0</td>\n      <td>0</td>\n      <td>0</td>\n    </tr>\n  </tbody>\n</table>\n</div>"
     },
     "execution_count": 32,
     "metadata": {},
     "output_type": "execute_result"
    }
   ],
   "source": [
    "def get_missing_values(df: pdf.DataFrame) -> dict:\n",
    "    missing_values = {}\n",
    "    for c in df.columns:\n",
    "        missing_count = (df\n",
    "                         .select(c)\n",
    "                         .filter(F.col(c).eqNullSafe(None) |\n",
    "                                 F.col(c).isNull())\n",
    "                         .count())\n",
    "        missing_values[c] = missing_count\n",
    "    return missing_values\n",
    "\n",
    "missing_values = get_missing_values(trainDF)\n",
    "pd.DataFrame([missing_values]).head()"
   ],
   "metadata": {
    "collapsed": false,
    "pycharm": {
     "name": "#%%\n"
    }
   }
  },
  {
   "cell_type": "markdown",
   "source": [
    "Records that miss `total_bedrooms` information"
   ],
   "metadata": {
    "collapsed": false,
    "pycharm": {
     "name": "#%% md\n"
    }
   }
  },
  {
   "cell_type": "code",
   "execution_count": 34,
   "outputs": [
    {
     "name": "stdout",
     "output_type": "stream",
     "text": [
      "+---------+--------+------------------+-----------+--------------+----------+----------+-------------+------------------+---------------+\n",
      "|longitude|latitude|housing_median_age|total_rooms|total_bedrooms|population|households|median_income|median_house_value|ocean_proximity|\n",
      "+---------+--------+------------------+-----------+--------------+----------+----------+-------------+------------------+---------------+\n",
      "|  -124.13|   40.55|              38.0|      544.0|          null|     240.0|      91.0|         3.25|           94800.0|      <1H OCEAN|\n",
      "|  -124.06|   40.86|              34.0|     4183.0|          null|    1891.0|     669.0|       3.2216|           98100.0|     NEAR OCEAN|\n",
      "|   -124.0|   40.92|              29.0|     1429.0|          null|     672.0|     266.0|       2.9485|           98800.0|      <1H OCEAN|\n",
      "+---------+--------+------------------+-----------+--------------+----------+----------+-------------+------------------+---------------+\n",
      "only showing top 3 rows\n",
      "\n"
     ]
    }
   ],
   "source": [
    "(trainDF\n",
    " .where(F.col('total_bedrooms').isNull())\n",
    " .show(3))"
   ],
   "metadata": {
    "collapsed": false,
    "pycharm": {
     "name": "#%%\n"
    }
   }
  },
  {
   "cell_type": "markdown",
   "source": [
    "Summary statistics"
   ],
   "metadata": {
    "collapsed": false,
    "pycharm": {
     "name": "#%% md\n"
    }
   }
  },
  {
   "cell_type": "code",
   "execution_count": 9,
   "outputs": [
    {
     "name": "stdout",
     "output_type": "stream",
     "text": [
      "Summary statistics of numeric columns\n",
      "+-------+------------------+-----------------+------------------+-----------------+------------------+------------------+-----------------+------------------+------------------+\n",
      "|summary|         longitude|         latitude|housing_median_age|      total_rooms|    total_bedrooms|        population|       households|     median_income|median_house_value|\n",
      "+-------+------------------+-----------------+------------------+-----------------+------------------+------------------+-----------------+------------------+------------------+\n",
      "|  count|             16560|            16560|             16560|            16560|             16403|             16560|            16560|             16560|             16560|\n",
      "|   mean|-119.5842886473419|35.65215519323691|28.634722222222223|2629.759963768116| 536.9965859903676| 1420.209963768116|498.7530193236715| 3.852551225845424|205596.39806763286|\n",
      "| stddev| 2.007848863288596|2.144785065244251|12.589563031817192|2173.913914969032|419.89637556422764|1089.8183884257737|380.5956744980795|1.8833127665763663|114804.48784864499|\n",
      "|    min|           -124.35|            32.54|               1.0|              2.0|               1.0|               3.0|              1.0|            0.4999|           14999.0|\n",
      "|    25%|            -121.8|            33.93|              18.0|           1445.0|             295.0|             786.0|            279.0|            2.5488|          118800.0|\n",
      "|    50%|           -118.52|            34.27|              29.0|           2123.0|             433.0|            1165.0|            409.0|            3.5256|          178800.0|\n",
      "|    75%|           -118.01|            37.73|              37.0|           3136.0|             646.0|            1721.0|            604.0|            4.7396|          262900.0|\n",
      "|    max|           -114.31|            41.95|              52.0|          39320.0|            6210.0|           16305.0|           5358.0|           15.0001|          500001.0|\n",
      "+-------+------------------+-----------------+------------------+-----------------+------------------+------------------+-----------------+------------------+------------------+\n",
      "\n"
     ]
    }
   ],
   "source": [
    "print('Summary statistics of numeric columns')\n",
    "(trainDF\n",
    " .select(numeric_cols)\n",
    " .summary()\n",
    " .show())"
   ],
   "metadata": {
    "collapsed": false,
    "pycharm": {
     "name": "#%%\n"
    }
   }
  },
  {
   "cell_type": "code",
   "execution_count": 10,
   "outputs": [
    {
     "name": "stdout",
     "output_type": "stream",
     "text": [
      "Summary statistics of string columns\n",
      "+---------------+-----+\n",
      "|ocean_proximity|count|\n",
      "+---------------+-----+\n",
      "|         ISLAND|    4|\n",
      "|     NEAR OCEAN| 2117|\n",
      "|       NEAR BAY| 1855|\n",
      "|      <1H OCEAN| 7268|\n",
      "|         INLAND| 5316|\n",
      "+---------------+-----+\n",
      "\n"
     ]
    }
   ],
   "source": [
    "print('Summary statistics of string columns')\n",
    "(trainDF\n",
    " .select(string_cols)\n",
    " .groupBy(string_cols)\n",
    " .count()\n",
    " .show())"
   ],
   "metadata": {
    "collapsed": false,
    "pycharm": {
     "name": "#%%\n"
    }
   }
  },
  {
   "cell_type": "markdown",
   "source": [
    "Distribution of individual columns"
   ],
   "metadata": {
    "collapsed": false,
    "pycharm": {
     "name": "#%% md\n"
    }
   }
  },
  {
   "cell_type": "code",
   "execution_count": 11,
   "outputs": [],
   "source": [
    "def plot_single_histogram(df, col, bins=30):\n",
    "    fig, ax = plt.subplots()\n",
    "    hist(axis=ax, x=df\n",
    "           .select(col), bins=bins)\n",
    "    ax.set_xlabel(col)"
   ],
   "metadata": {
    "collapsed": false,
    "pycharm": {
     "name": "#%%\n"
    }
   }
  },
  {
   "cell_type": "code",
   "execution_count": 128,
   "outputs": [
    {
     "data": {
      "text/plain": "<Figure size 432x288 with 1 Axes>",
      "image/png": "[encoded data removed]"
     },
     "metadata": {
      "needs_background": "light"
     },
     "output_type": "display_data"
    },
    {
     "data": {
      "text/plain": "<Figure size 432x288 with 1 Axes>",
      "image/png": "[encoded data removed]"
     },
     "metadata": {
      "needs_background": "light"
     },
     "output_type": "display_data"
    },
    {
     "data": {
      "text/plain": "<Figure size 432x288 with 1 Axes>",
      "image/png": "[encoded data removed]"
     },
     "metadata": {
      "needs_background": "light"
     },
     "output_type": "display_data"
    },
    {
     "data": {
      "text/plain": "<Figure size 432x288 with 1 Axes>",
      "image/png": "[encoded data removed]"
     },
     "metadata": {
      "needs_background": "light"
     },
     "output_type": "display_data"
    },
    {
     "data": {
      "text/plain": "<Figure size 432x288 with 1 Axes>",
      "image/png": "[encoded data removed]"
     },
     "metadata": {
      "needs_background": "light"
     },
     "output_type": "display_data"
    },
    {
     "data": {
      "text/plain": "<Figure size 432x288 with 1 Axes>",
      "image/png": "[encoded data removed]"
     },
     "metadata": {
      "needs_background": "light"
     },
     "output_type": "display_data"
    }
   ],
   "source": [
    "plot_single_histogram(trainDF, 'housing_median_age', bins=100)\n",
    "plot_single_histogram(trainDF, 'total_rooms')\n",
    "plot_single_histogram(trainDF, 'total_bedrooms')\n",
    "plot_single_histogram(trainDF, 'population')\n",
    "plot_single_histogram(trainDF, 'households')\n",
    "plot_single_histogram(trainDF, 'median_income')"
   ],
   "metadata": {
    "collapsed": false,
    "pycharm": {
     "name": "#%%\n"
    }
   }
  },
  {
   "cell_type": "markdown",
   "source": [
    "Some observations:\n",
    "* The distribution of counting numbers (e.g. `total_rooms`, `total_bedrooms`, `populations`, `households`) are right-skewed.\n",
    "\n",
    "* The distribution of `median_income` is also right-skewed, showing that a small population get very high income compared to the rest.\n",
    "* There is a peak in the histogram of `housing_median_age` locating at 52. This might be due to the conversion of large ages to this value."
   ],
   "metadata": {
    "collapsed": false,
    "pycharm": {
     "name": "#%% md\n"
    }
   }
  },
  {
   "cell_type": "markdown",
   "source": [
    "Next, let's inspect the correlation among columns."
   ],
   "metadata": {
    "collapsed": false,
    "pycharm": {
     "name": "#%% md\n"
    }
   }
  },
  {
   "cell_type": "code",
   "execution_count": 129,
   "outputs": [
    {
     "data": {
      "text/plain": "<AxesSubplot:>"
     },
     "execution_count": 129,
     "metadata": {},
     "output_type": "execute_result"
    },
    {
     "data": {
      "text/plain": "<Figure size 720x504 with 2 Axes>",
      "image/png": "[encoded data removed]"
     },
     "metadata": {
      "needs_background": "light"
     },
     "output_type": "display_data"
    }
   ],
   "source": [
    "trainDF.corr('housing_median_age', 'median_house_value')\n",
    "def correlation_matrix(df, columns):\n",
    "    n = len(columns)\n",
    "    mat = np.eye(n)\n",
    "    for i in range(n-1):\n",
    "        for j in range(i+1, n):\n",
    "            mat[j, i] = mat[i, j] = df.corr(columns[i], columns[j])\n",
    "    return mat\n",
    "\n",
    "corrDF = pd.DataFrame(\n",
    "    correlation_matrix(trainDF, numeric_cols),\n",
    "    columns=numeric_cols,\n",
    "    index=numeric_cols\n",
    ")\n",
    "plt.figure(figsize = (10,7))\n",
    "sns.heatmap(corrDF, annot=True)"
   ],
   "metadata": {
    "collapsed": false,
    "pycharm": {
     "name": "#%%\n"
    }
   }
  },
  {
   "cell_type": "markdown",
   "source": [
    "The house value is highly correlated to `median_income` which truely makes sense.\n",
    "\n",
    "### Model building"
   ],
   "metadata": {
    "collapsed": false,
    "pycharm": {
     "name": "#%% md\n"
    }
   }
  },
  {
   "cell_type": "code",
   "execution_count": 14,
   "outputs": [],
   "source": [
    "from pyspark.ml.evaluation import RegressionEvaluator\n",
    "\n",
    "predict_col = 'prediction'\n",
    "label = 'median_house_value'\n",
    "\n",
    "def evaluate(df, predict_col, label, metric='rmse'):\n",
    "    regressionEvaluator = RegressionEvaluator(\n",
    "        predictionCol=predict_col,\n",
    "        labelCol=label,\n",
    "        metricName=metric)\n",
    "    return regressionEvaluator.evaluate(df)"
   ],
   "metadata": {
    "collapsed": false,
    "pycharm": {
     "name": "#%%\n"
    }
   }
  },
  {
   "cell_type": "markdown",
   "source": [
    "We select Root Mean Square Error (RMSE) as the evaluation metric.\n",
    "\n",
    "First, let's build a simple model that predicts median house value as the average value on the training set. This baseline model achieves `117625.94` RMSE."
   ],
   "metadata": {
    "collapsed": false,
    "pycharm": {
     "name": "#%% md\n"
    }
   }
  },
  {
   "cell_type": "code",
   "execution_count": 130,
   "outputs": [
    {
     "name": "stdout",
     "output_type": "stream",
     "text": [
      "RMSE (baseline): 117625.94\n"
     ]
    }
   ],
   "source": [
    "prediction_bl = testDF.select(F.mean(F.col('median_house_value'))).take(1)[0][0]\n",
    "testDF_bl = testDF.withColumn('prediction', F.lit(prediction_bl))\n",
    "print('RMSE (baseline): %.2f' % evaluate(testDF_bl, predict_col, label))"
   ],
   "metadata": {
    "collapsed": false,
    "pycharm": {
     "name": "#%%\n"
    }
   }
  },
  {
   "cell_type": "markdown",
   "source": [
    "The simple model does not take any other information except the target column. While the target is correlated to other columns as well, the exploitation of other columns would result in a more accurate model. Otherwise, we are on the wrong track.\n",
    "\n",
    "\n",
    "Let's first consider a linear regression model that predicts median house value using:\n",
    "* `log of total_rooms`\n",
    "* `housing_median_age`\n",
    "\n",
    "The use of logarithmic transform is to mitigate the right tail of `total_rooms` and expand its left tail, making `total_rooms` more normally distributed.\n"
   ],
   "metadata": {
    "collapsed": false,
    "pycharm": {
     "name": "#%% md\n"
    }
   }
  },
  {
   "cell_type": "code",
   "execution_count": 40,
   "outputs": [],
   "source": [
    "from pyspark.ml import Pipeline, Transformer, Estimator\n",
    "from pyspark.ml.feature import (VectorAssembler,\n",
    "                                StandardScaler,\n",
    "                                StringIndexer,\n",
    "                                OneHotEncoder,\n",
    "                                Imputer,\n",
    "                                Interaction,\n",
    "                                QuantileDiscretizer)\n",
    "from pyspark.ml.pipeline import Pipeline\n",
    "from pyspark.ml.regression import LinearRegression\n",
    "\n",
    "\n",
    "class LogTransform(Transformer):\n",
    "    \"\"\"\n",
    "    Perform logarithm transform for a set of columns\n",
    "    \"\"\"\n",
    "    def __init__(self, inputCols: list, outputCols: list):\n",
    "        if not isinstance(inputCols, list):\n",
    "            inputCols = [inputCols]\n",
    "        if not isinstance(outputCols, list):\n",
    "            outputCols = [outputCols]\n",
    "\n",
    "        assert len(inputCols) == len(outputCols), \\\n",
    "            print('The number of input and output columns do not match')\n",
    "        self.inputCols, self.outputCols = inputCols, outputCols\n",
    "        super().__init__()\n",
    "\n",
    "    def _transform(self, df: pdf.DataFrame) -> pdf.DataFrame:\n",
    "        for c_in, c_out in zip(self.inputCols, self.outputCols):\n",
    "            df = df.withColumn(c_out, F.log(F.col(c_in) + 1))\n",
    "        return df"
   ],
   "metadata": {
    "collapsed": false,
    "pycharm": {
     "name": "#%%\n"
    }
   }
  },
  {
   "cell_type": "code",
   "execution_count": 60,
   "outputs": [
    {
     "name": "stdout",
     "output_type": "stream",
     "text": [
      "RMSE (linear regression - 2 features): 114732.75\n",
      "R2 (linear regression - 2 features): 0.05\n"
     ]
    }
   ],
   "source": [
    "def get_lr_pipeline(transformers: list,\n",
    "                    input_features: list,\n",
    "                    label_col: str='label',\n",
    "                    predict_col: str='prediction') -> Pipeline:\n",
    "    vec_assembler = VectorAssembler(inputCols=input_features,\n",
    "                                    outputCol='features')\n",
    "    scaler = StandardScaler(inputCol=vec_assembler.getOutputCol(),\n",
    "                            outputCol=\"scaled_features\",\n",
    "                            withMean=True, withStd=True)\n",
    "    lr = LinearRegression(labelCol=label_col,\n",
    "                          predictionCol=predict_col,\n",
    "                          featuresCol=\"scaled_features\",\n",
    "                          standardization=False)\n",
    "    pipeline = Pipeline(stages=transformers + [vec_assembler, scaler, lr])\n",
    "    return pipeline\n",
    "\n",
    "\n",
    "\n",
    "log_trans = LogTransform(inputCols=['total_rooms'],\n",
    "                         outputCols=['log_total_rooms'])\n",
    "pipeline = get_lr_pipeline(transformers=[log_trans],\n",
    "                           input_features=['log_total_rooms',\n",
    "                                           'housing_median_age'],\n",
    "                           label_col=label,\n",
    "                           predict_col=predict_col)\n",
    "model = pipeline.fit(trainDF)\n",
    "testDF_lr = model.transform(testDF)\n",
    "print('RMSE (linear regression - 2 features): %.2f' % evaluate(testDF_lr, predict_col, label))\n",
    "print('R2 (linear regression - 2 features): %.2f' % evaluate(testDF_lr, predict_col, label, metric='r2'))"
   ],
   "metadata": {
    "collapsed": false,
    "pycharm": {
     "name": "#%%\n"
    }
   }
  },
  {
   "cell_type": "markdown",
   "source": [
    "We see that linear regression with two features slightly improves RMSE of the baseline from `117625.94` to `114732.75`. Also noted that, `R2` is another metric that quantifies the improvement compared to the baseline. The larger of `R2`, the more improvement.\n",
    "\n",
    "Now we add one-hot encoding of `ocean_proximity`, an expressive feature that might influence the house price.\n",
    "* `log of total_rooms`\n",
    "* `housing_median_age`\n",
    "* `ocean_proximity`"
   ],
   "metadata": {
    "collapsed": false,
    "pycharm": {
     "name": "#%% md\n"
    }
   }
  },
  {
   "cell_type": "code",
   "execution_count": 61,
   "outputs": [
    {
     "name": "stdout",
     "output_type": "stream",
     "text": [
      "RMSE (linear regression - 3 features): 101085.70\n",
      "R2 (linear regression - 3 features): 0.26\n"
     ]
    }
   ],
   "source": [
    "string_indexer = StringIndexer(inputCols=['ocean_proximity'],\n",
    "                               outputCols=['ocean_proximity_index'])\n",
    "oh_encoder = OneHotEncoder(inputCols=['ocean_proximity_index'],\n",
    "                           outputCols=['ocean_proximity_oh'])\n",
    "pipeline = get_lr_pipeline(transformers=[log_trans,\n",
    "                                         string_indexer,\n",
    "                                         oh_encoder],\n",
    "                           input_features=['log_total_rooms',\n",
    "                                           'housing_median_age',\n",
    "                                           'ocean_proximity_oh'],\n",
    "                           label_col=label,\n",
    "                           predict_col=predict_col)\n",
    "model = pipeline.fit(trainDF)\n",
    "\n",
    "testDF_lr = model.transform(testDF)\n",
    "print('RMSE (linear regression - 3 features): %.2f' % evaluate(testDF_lr, predict_col, label))\n",
    "print('R2 (linear regression - 3 features): %.2f' % evaluate(testDF_lr, predict_col, label, metric='r2'))"
   ],
   "metadata": {
    "collapsed": false,
    "pycharm": {
     "name": "#%%\n"
    }
   }
  },
  {
   "cell_type": "markdown",
   "source": [
    "The error reduces to `101085.70`, and `R2` increases to `0.26`.\n",
    "\n",
    "In the following, we incrementally add meaning features and observe continous improvements.\n",
    "\n",
    "Linear regression using:\n",
    "* `log of total_rooms`\n",
    "* `housing_median_age`\n",
    "* `ocean_proximity`\n",
    "* `log of median_income`"
   ],
   "metadata": {
    "collapsed": false,
    "pycharm": {
     "name": "#%% md\n"
    }
   }
  },
  {
   "cell_type": "code",
   "execution_count": 62,
   "outputs": [
    {
     "name": "stdout",
     "output_type": "stream",
     "text": [
      "RMSE (linear regression - 4 features): 75393.91\n",
      "R2 (linear regression - 4 features): 0.59\n"
     ]
    }
   ],
   "source": [
    "log_trans = LogTransform(inputCols=['total_rooms', 'median_income'],\n",
    "                         outputCols=['log_total_rooms', 'log_median_income'])\n",
    "\n",
    "pipeline = get_lr_pipeline(transformers=[log_trans,\n",
    "                                         string_indexer,\n",
    "                                         oh_encoder],\n",
    "                           input_features=['log_total_rooms',\n",
    "                                           'housing_median_age',\n",
    "                                           'ocean_proximity_oh',\n",
    "                                           'log_median_income'],\n",
    "                           label_col=label,\n",
    "                           predict_col=predict_col)\n",
    "model = pipeline.fit(trainDF)\n",
    "\n",
    "testDF_lr = model.transform(testDF)\n",
    "print('RMSE (linear regression - 4 features): %.2f' % evaluate(testDF_lr, predict_col, label))\n",
    "print('R2 (linear regression - 4 features): %.2f' % evaluate(testDF_lr, predict_col, label, metric='r2'))"
   ],
   "metadata": {
    "collapsed": false,
    "pycharm": {
     "name": "#%%\n"
    }
   }
  },
  {
   "cell_type": "markdown",
   "source": [
    "Linear regression using:\n",
    "* `log of total_rooms`\n",
    "* `log of total_bedrooms`\n",
    "* `housing_median_age`\n",
    "* `ocean_proximity`\n",
    "* `log of median_income`"
   ],
   "metadata": {
    "collapsed": false,
    "pycharm": {
     "name": "#%% md\n"
    }
   }
  },
  {
   "cell_type": "code",
   "execution_count": 63,
   "outputs": [
    {
     "name": "stdout",
     "output_type": "stream",
     "text": [
      "RMSE (linear regression - 5 features): 74415.49\n",
      "R2 (linear regression - 5 features): 0.60\n"
     ]
    }
   ],
   "source": [
    "imputer = Imputer(inputCols=['total_bedrooms'],\n",
    "                  outputCols=['cleaned_total_bedrooms'])\n",
    "log_trans = LogTransform(inputCols=['total_rooms', 'median_income', 'cleaned_total_bedrooms'],\n",
    "                         outputCols=['log_total_rooms', 'log_median_income', 'log_cleaned_total_bedrooms'])\n",
    "pipeline = get_lr_pipeline(transformers=[imputer,\n",
    "                                         log_trans,\n",
    "                                         string_indexer,\n",
    "                                         oh_encoder],\n",
    "                           input_features=['log_total_rooms',\n",
    "                                           'log_cleaned_total_bedrooms',\n",
    "                                           'housing_median_age',\n",
    "                                           'ocean_proximity_oh',\n",
    "                                           'log_median_income'],\n",
    "                           label_col=label,\n",
    "                           predict_col=predict_col)\n",
    "model = pipeline.fit(trainDF)\n",
    "\n",
    "testDF_lr = model.transform(testDF)\n",
    "print('RMSE (linear regression - 5 features): %.2f' % evaluate(testDF_lr, predict_col, label))\n",
    "print('R2 (linear regression - 5 features): %.2f' % evaluate(testDF_lr, predict_col, label, metric='r2'))"
   ],
   "metadata": {
    "collapsed": false,
    "pycharm": {
     "name": "#%%\n"
    }
   }
  },
  {
   "cell_type": "markdown",
   "source": [
    "Linear regression using\n",
    "* `log of total_rooms`\n",
    "* `log of total_bedrooms`\n",
    "* `housing_median_age`\n",
    "* `ocean_proximity`\n",
    "* `log of median_income`\n",
    "* `bucketed longitude x bucketed latitude`"
   ],
   "metadata": {
    "collapsed": false,
    "pycharm": {
     "name": "#%% md\n"
    }
   }
  },
  {
   "cell_type": "code",
   "execution_count": 64,
   "outputs": [
    {
     "name": "stdout",
     "output_type": "stream",
     "text": [
      "RMSE (linear regression - 6 features): 64984.41\n",
      "R2 (linear regression - 6 features): 0.69\n"
     ]
    }
   ],
   "source": [
    "bucketizer = QuantileDiscretizer(numBuckets=10,\n",
    "                                 inputCols=['longitude', 'latitude'],\n",
    "                                 outputCols=['bucketed_longitude', 'bucketed_latitude'])\n",
    "\n",
    "interaction = Interaction(inputCols=['bucketed_longitude', 'bucketed_latitude'],\n",
    "                          outputCol='bucketed_longitude_x_bucketed_latitude')\n",
    "pipeline = get_lr_pipeline(transformers=[imputer,\n",
    "                                         bucketizer,\n",
    "                                         interaction,\n",
    "                                         log_trans,\n",
    "                                         string_indexer,\n",
    "                                         oh_encoder],\n",
    "                           input_features=['log_total_rooms',\n",
    "                                           'log_cleaned_total_bedrooms',\n",
    "                                           'housing_median_age',\n",
    "                                           'ocean_proximity_oh',\n",
    "                                           'log_median_income',\n",
    "                                           'bucketed_longitude_x_bucketed_latitude'],\n",
    "                           label_col=label,\n",
    "                           predict_col=predict_col)\n",
    "model = pipeline.fit(trainDF)\n",
    "\n",
    "testDF_lr = model.transform(testDF)\n",
    "print('RMSE (linear regression - 6 features): %.2f' % evaluate(testDF_lr, predict_col, label))\n",
    "print('R2 (linear regression - 6 features): %.2f' % evaluate(testDF_lr, predict_col, label, metric='r2'))\n"
   ],
   "metadata": {
    "collapsed": false,
    "pycharm": {
     "name": "#%%\n"
    }
   }
  },
  {
   "cell_type": "markdown",
   "source": [
    "We have used of six features, including:\n",
    "* `log of total_rooms`\n",
    "* `log of total_bedrooms`\n",
    "* `housing_median_age`\n",
    "* `ocean_proximity`\n",
    "* `log of median_income`\n",
    "* `bucketed longitude x bucketed latitude`\n",
    "\n",
    "Machine learning pipelines are concerned with hyperparameters, for instance: imputation strategry for `total_bedrooms`, regularization of linear regression, number of buckets for discretizing `longitude` and `latitude`.\n",
    "\n",
    "Spark provides efficient cross-validation pipeline for hyperparamter tuning. In the following, we perform grid search in hyperparameter space to select the best model."
   ],
   "metadata": {
    "collapsed": false,
    "pycharm": {
     "name": "#%% md\n"
    }
   }
  },
  {
   "cell_type": "code",
   "execution_count": 134,
   "outputs": [],
   "source": [
    "from pyspark.ml.tuning import ParamGridBuilder, CrossValidator\n",
    "\n",
    "def get_cv_pipeline(transformers: list,\n",
    "                    input_features: list,\n",
    "                    estimator: Estimator,\n",
    "                    param_grid: list,\n",
    "                    label_col: str='label',\n",
    "                    predict_col: str='prediction',\n",
    "                    metric: str='rmse',\n",
    "                    num_fold: int=5) -> CrossValidator:\n",
    "    vec_assembler = VectorAssembler(inputCols=input_features,\n",
    "                                    outputCol='features')\n",
    "    scaler = StandardScaler(inputCol=vec_assembler.getOutputCol(),\n",
    "                            outputCol=\"scaled_features\")\n",
    "    pipeline = Pipeline(stages=transformers + [vec_assembler, scaler, estimator])\n",
    "\n",
    "    evaluator = RegressionEvaluator(\n",
    "        predictionCol=predict_col,\n",
    "        labelCol=label_col,\n",
    "        metricName=metric)\n",
    "\n",
    "    cv = CrossValidator(estimator=pipeline,\n",
    "                        evaluator=evaluator,\n",
    "                        estimatorParamMaps=param_grid,\n",
    "                        numFolds=num_fold,\n",
    "                        seed=RANDOM_SEED,\n",
    "                        parallelism=4)\n",
    "\n",
    "    return cv"
   ],
   "metadata": {
    "collapsed": false,
    "pycharm": {
     "name": "#%%\n"
    }
   }
  },
  {
   "cell_type": "code",
   "execution_count": 135,
   "outputs": [
    {
     "name": "stdout",
     "output_type": "stream",
     "text": [
      "HP tuning in: 319.81 seconds\n",
      "RMSE (linear regression - 6 features - hyperparameter tuning): 62169.41\n",
      "R2 (linear regression - 6 features - hyperparameter tuning): 0.72\n",
      "\n",
      "Best hyperparameters: \n",
      "({Param(parent='LinearRegression_ca63ec10b4de', name='elasticNetParam', doc='the ElasticNet mixing parameter, in range [0, 1]. For alpha = 0, the penalty is an L2 penalty. For alpha = 1, it is an L1 penalty.'): 0.0,\n",
      "  Param(parent='Imputer_05cec1ca1f9b', name='strategy', doc='strategy for imputation. If mean, then replace missing values using the mean value of the feature. If median, then replace missing values using the median value of the feature. If mode, then replace missing using the most frequent value of the feature.'): 'mode',\n",
      "  Param(parent='QuantileDiscretizer_e2b152b12689', name='numBuckets', doc='Maximum number of buckets (quantiles, or categories) into which data points are grouped. Must be >= 2.'): 15,\n",
      "  Param(parent='LinearRegression_ca63ec10b4de', name='regParam', doc='regularization parameter (>= 0).'): 0.0},\n",
      " 63025.272773542325)\n"
     ]
    }
   ],
   "source": [
    "lr = LinearRegression(predictionCol=predict_col,\n",
    "                      labelCol=label,\n",
    "                      featuresCol='scaled_features',\n",
    "                      standardization=False)\n",
    "\n",
    "param_grid = (ParamGridBuilder()\n",
    "              .addGrid(lr.regParam, [0, 0.1, 0.01, 0.001])\n",
    "              .addGrid(lr.elasticNetParam, [0, 0.5, 1])\n",
    "              .addGrid(imputer.strategy, ['mean', 'median', 'mode'])\n",
    "              .addGrid(bucketizer.numBuckets, [5, 10, 15])\n",
    "              .build())\n",
    "pipeline = get_cv_pipeline(transformers=[imputer,\n",
    "                                         bucketizer,\n",
    "                                         interaction,\n",
    "                                         log_trans,\n",
    "                                         string_indexer,\n",
    "                                         oh_encoder],\n",
    "                           input_features=['log_total_rooms',\n",
    "                                           'log_cleaned_total_bedrooms',\n",
    "                                           'housing_median_age',\n",
    "                                           'ocean_proximity_oh',\n",
    "                                           'log_median_income',\n",
    "                                           'bucketed_longitude_x_bucketed_latitude'],\n",
    "                           estimator=lr,\n",
    "                           label_col=label,\n",
    "                           predict_col=predict_col,\n",
    "                           param_grid=param_grid,\n",
    "                           num_fold=3)\n",
    "\n",
    "import time\n",
    "start = time.perf_counter()\n",
    "model = pipeline.fit(trainDF)\n",
    "print('HP tuning in: %.2f seconds' % (time.perf_counter()-start))\n",
    "\n",
    "testDF_lr = model.transform(testDF)\n",
    "print('RMSE (linear regression - 6 features - hyperparameter tuning): %.2f' % evaluate(testDF_lr, predict_col, label))\n",
    "print('R2 (linear regression - 6 features - hyperparameter tuning): %.2f' % evaluate(testDF_lr, predict_col, label, metric='r2'))\n",
    "\n",
    "cv_summaries = list(zip(model.getEstimatorParamMaps(), model.avgMetrics))\n",
    "cv_summaries = sorted(cv_summaries, key=lambda x: x[-1])\n",
    "print('\\nBest hyperparameters: ')\n",
    "pprint(cv_summaries[0])"
   ],
   "metadata": {
    "collapsed": false,
    "pycharm": {
     "name": "#%%\n"
    }
   }
  },
  {
   "cell_type": "markdown",
   "source": [
    "The best set of hyperparameters:\n",
    "- Imputation using mode of `total_bedrooms`\n",
    "- No regularization (`regParam` = 0)\n",
    "- 15 buckets for `longitude` and `latitude`\n",
    "\n",
    "We finally obtained the best `RMSE = 62169.41`, and `R2 = 0.72`."
   ],
   "metadata": {
    "collapsed": false,
    "pycharm": {
     "name": "#%% md\n"
    }
   }
  },
  {
   "cell_type": "code",
   "execution_count": null,
   "outputs": [],
   "source": [
    "houseDF.unpersist()\n",
    "spark.stop()"
   ],
   "metadata": {
    "collapsed": false,
    "pycharm": {
     "name": "#%%\n"
    }
   }
  },
  {
   "cell_type": "markdown",
   "source": [
    "END.\n"
   ],
   "metadata": {
    "collapsed": false,
    "pycharm": {
     "name": "#%% md\n"
    }
   }
  }
 ],
 "metadata": {
  "kernelspec": {
   "display_name": "Python 3",
   "language": "python",
   "name": "python3"
  },
  "language_info": {
   "codemirror_mode": {
    "name": "ipython",
    "version": 2
   },
   "file_extension": ".py",
   "mimetype": "text/x-python",
   "name": "python",
   "nbconvert_exporter": "python",
   "pygments_lexer": "ipython2",
   "version": "2.7.6"
  }
 },
 "nbformat": 4,
 "nbformat_minor": 0
}